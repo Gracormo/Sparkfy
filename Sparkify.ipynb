{
  "cells": [
    {
      "cell_type": "markdown",
      "metadata": {
        "id": "olcVij7mTJuZ"
      },
      "source": [
        "# Sparkify Project Workspace\n",
        "This workspace contains a tiny subset (128MB) of the full dataset available (12GB). Feel free to use this workspace to build your project, or to explore a smaller subset with Spark before deploying your cluster on the cloud. Instructions for setting up your Spark cluster is included in the last lesson of the Extracurricular Spark Course content.\n",
        "\n",
        "You can follow the steps below to guide your data analysis and model building portion of this project."
      ]
    },
    {
      "cell_type": "code",
      "execution_count": 1,
      "metadata": {
        "id": "o8yyLAOZTJub"
      },
      "outputs": [],
      "source": [
        "# import libraries\n",
        "from pyspark.sql import SparkSession\n",
        "from pyspark.sql.functions import *\n",
        "from pyspark.sql import functions as f\n",
        "from pyspark.sql.window import Window\n",
        "from pyspark.sql.types import IntegerType\n",
        "\n",
        "from pyspark.ml.feature import StringIndexer, VectorAssembler\n",
        "from pyspark.ml import Pipeline\n",
        "\n",
        "from pyspark.ml import Pipeline\n",
        "from pyspark.ml.classification import LogisticRegression, RandomForestClassifier, GBTClassifier, LinearSVC, NaiveBayes\n",
        "from pyspark.ml.evaluation import MulticlassClassificationEvaluator, BinaryClassificationEvaluator\n",
        "from pyspark.ml.feature import CountVectorizer, IDF, PCA, RegexTokenizer, VectorAssembler, Normalizer, StandardScaler\n",
        "from pyspark.ml.regression import LinearRegression\n",
        "from pyspark.ml.tuning import CrossValidator, ParamGridBuilder\n",
        "\n",
        "import time\n",
        "\n",
        "\n",
        "import matplotlib.pyplot as plt\n",
        "import seaborn as sns\n",
        "\n"
      ]
    },
    {
      "cell_type": "code",
      "execution_count": 2,
      "metadata": {
        "id": "1mjaFZGaTJuc"
      },
      "outputs": [],
      "source": [
        "import os\n",
        "import sys\n",
        "\n",
        "os.environ['PYSPARK_PYTHON'] = sys.executable\n",
        "os.environ['PYSPARK_DRIVER_PYTHON'] = sys.executable"
      ]
    },
    {
      "cell_type": "code",
      "execution_count": 3,
      "metadata": {
        "colab": {
          "base_uri": "https://localhost:8080/",
          "height": 219
        },
        "id": "veB1Wfv2TJuc",
        "outputId": "dc054c45-eccd-4c15-efef-901eeeef852e"
      },
      "outputs": [
        {
          "output_type": "execute_result",
          "data": {
            "text/plain": [
              "<pyspark.sql.session.SparkSession at 0x798b5ae840d0>"
            ],
            "text/html": [
              "\n",
              "            <div>\n",
              "                <p><b>SparkSession - in-memory</b></p>\n",
              "                \n",
              "        <div>\n",
              "            <p><b>SparkContext</b></p>\n",
              "\n",
              "            <p><a href=\"http://e7251b95ee47:4040\">Spark UI</a></p>\n",
              "\n",
              "            <dl>\n",
              "              <dt>Version</dt>\n",
              "                <dd><code>v3.5.5</code></dd>\n",
              "              <dt>Master</dt>\n",
              "                <dd><code>local[*]</code></dd>\n",
              "              <dt>AppName</dt>\n",
              "                <dd><code>Sparkfy</code></dd>\n",
              "            </dl>\n",
              "        </div>\n",
              "        \n",
              "            </div>\n",
              "        "
            ]
          },
          "metadata": {},
          "execution_count": 3
        }
      ],
      "source": [
        "# create a Spark session\n",
        "spark = SparkSession.builder.master('local[*]').appName(\"Sparkfy\").getOrCreate()\n",
        "spark"
      ]
    },
    {
      "cell_type": "code",
      "execution_count": 4,
      "metadata": {
        "id": "i_dWyQCkTJud"
      },
      "outputs": [],
      "source": [
        "spark.conf.set(\"spark.sql.execution.arrow.enabled\", \"true\")\n",
        "os.environ['PYSPARK_PYTHON'] = sys.executable\n",
        "os.environ['PYSPARK_DRIVER_PYTHON'] = sys.executable"
      ]
    },
    {
      "cell_type": "markdown",
      "metadata": {
        "id": "GuVWkXZrTJud"
      },
      "source": [
        "# Load and Clean Dataset\n",
        "In this workspace, the mini-dataset file is `mini_sparkify_event_data.json`. Load and clean the dataset, checking for invalid or missing data - for example, records without userids or sessionids."
      ]
    },
    {
      "cell_type": "code",
      "execution_count": 5,
      "metadata": {
        "colab": {
          "base_uri": "https://localhost:8080/"
        },
        "id": "RP5pdi-bTJue",
        "outputId": "3319d4de-aba5-438b-8028-394a57b97556"
      },
      "outputs": [
        {
          "output_type": "stream",
          "name": "stdout",
          "text": [
            "root\n",
            " |-- artist: string (nullable = true)\n",
            " |-- auth: string (nullable = true)\n",
            " |-- firstName: string (nullable = true)\n",
            " |-- gender: string (nullable = true)\n",
            " |-- itemInSession: long (nullable = true)\n",
            " |-- lastName: string (nullable = true)\n",
            " |-- length: double (nullable = true)\n",
            " |-- level: string (nullable = true)\n",
            " |-- location: string (nullable = true)\n",
            " |-- method: string (nullable = true)\n",
            " |-- page: string (nullable = true)\n",
            " |-- registration: long (nullable = true)\n",
            " |-- sessionId: long (nullable = true)\n",
            " |-- song: string (nullable = true)\n",
            " |-- status: long (nullable = true)\n",
            " |-- ts: long (nullable = true)\n",
            " |-- userAgent: string (nullable = true)\n",
            " |-- userId: string (nullable = true)\n",
            "\n",
            "+----------------+---------+---------+------+-------------+--------+---------+-----+------------------------------+------+--------+-------------+---------+-----------------------------+------+-------------+---------------------------------------------------------------------------------------------------------------+------+\n",
            "|artist          |auth     |firstName|gender|itemInSession|lastName|length   |level|location                      |method|page    |registration |sessionId|song                         |status|ts           |userAgent                                                                                                      |userId|\n",
            "+----------------+---------+---------+------+-------------+--------+---------+-----+------------------------------+------+--------+-------------+---------+-----------------------------+------+-------------+---------------------------------------------------------------------------------------------------------------+------+\n",
            "|Martha Tilston  |Logged In|Colin    |M     |50           |Freeman |277.89016|paid |Bakersfield, CA               |PUT   |NextSong|1538173362000|29       |Rockpools                    |200   |1538352117000|Mozilla/5.0 (Windows NT 6.1; WOW64; rv:31.0) Gecko/20100101 Firefox/31.0                                       |30    |\n",
            "|Five Iron Frenzy|Logged In|Micah    |M     |79           |Long    |236.09424|free |Boston-Cambridge-Newton, MA-NH|PUT   |NextSong|1538331630000|8        |Canada                       |200   |1538352180000|\"Mozilla/5.0 (Windows NT 6.1; WOW64) AppleWebKit/537.36 (KHTML, like Gecko) Chrome/37.0.2062.103 Safari/537.36\"|9     |\n",
            "|Adam Lambert    |Logged In|Colin    |M     |51           |Freeman |282.8273 |paid |Bakersfield, CA               |PUT   |NextSong|1538173362000|29       |Time For Miracles            |200   |1538352394000|Mozilla/5.0 (Windows NT 6.1; WOW64; rv:31.0) Gecko/20100101 Firefox/31.0                                       |30    |\n",
            "|Enigma          |Logged In|Micah    |M     |80           |Long    |262.71302|free |Boston-Cambridge-Newton, MA-NH|PUT   |NextSong|1538331630000|8        |Knocking On Forbidden Doors  |200   |1538352416000|\"Mozilla/5.0 (Windows NT 6.1; WOW64) AppleWebKit/537.36 (KHTML, like Gecko) Chrome/37.0.2062.103 Safari/537.36\"|9     |\n",
            "|Daft Punk       |Logged In|Colin    |M     |52           |Freeman |223.60771|paid |Bakersfield, CA               |PUT   |NextSong|1538173362000|29       |Harder Better Faster Stronger|200   |1538352676000|Mozilla/5.0 (Windows NT 6.1; WOW64; rv:31.0) Gecko/20100101 Firefox/31.0                                       |30    |\n",
            "+----------------+---------+---------+------+-------------+--------+---------+-----+------------------------------+------+--------+-------------+---------+-----------------------------+------+-------------+---------------------------------------------------------------------------------------------------------------+------+\n",
            "only showing top 5 rows\n",
            "\n"
          ]
        }
      ],
      "source": [
        "# load in the dataset\n",
        "df = spark.read.json(\"mini_sparkify_event_data.json\")\n",
        "\n",
        "# Preview the data\n",
        "df.printSchema()\n",
        "\n",
        "df.show(5, truncate=False)"
      ]
    },
    {
      "cell_type": "markdown",
      "metadata": {
        "id": "5ZcF_lj6TJue"
      },
      "source": [
        "### Dealing with null values"
      ]
    },
    {
      "cell_type": "code",
      "execution_count": 6,
      "metadata": {
        "colab": {
          "base_uri": "https://localhost:8080/"
        },
        "id": "5HYcXG3kTJue",
        "outputId": "66d5fafa-a8c1-4510-fc4d-d3f293bd0a7a"
      },
      "outputs": [
        {
          "output_type": "stream",
          "name": "stdout",
          "text": [
            "Total records before cleaning: 286500\n"
          ]
        }
      ],
      "source": [
        "# Check the total number of records before cleaning\n",
        "print(f\"Total records before cleaning: {df.count()}\")"
      ]
    },
    {
      "cell_type": "code",
      "execution_count": 7,
      "metadata": {
        "colab": {
          "base_uri": "https://localhost:8080/"
        },
        "id": "a1JrBY0XTJue",
        "outputId": "5e572d6a-a45f-46e6-a698-ec2353044bb0"
      },
      "outputs": [
        {
          "output_type": "stream",
          "name": "stdout",
          "text": [
            "+------+----+---------+------+-------------+--------+------+-----+--------+------+----+------------+---------+-----+------+---+---------+------+\n",
            "|artist|auth|firstName|gender|itemInSession|lastName|length|level|location|method|page|registration|sessionId| song|status| ts|userAgent|userId|\n",
            "+------+----+---------+------+-------------+--------+------+-----+--------+------+----+------------+---------+-----+------+---+---------+------+\n",
            "| 58392|   0|     8346|  8346|            0|    8346| 58392|    0|    8346|     0|   0|        8346|        0|58392|     0|  0|     8346|  8346|\n",
            "+------+----+---------+------+-------------+--------+------+-----+--------+------+----+------------+---------+-----+------+---+---------+------+\n",
            "\n"
          ]
        }
      ],
      "source": [
        "# Check for null values in each column\n",
        "\n",
        "missing_values = df.select([\n",
        "    sum(when(col(c).isNull() | (col(c) == ''), 1).otherwise(0)).alias(c)\n",
        "    for c in df.columns\n",
        "])\n",
        "\n",
        "missing_values.show()"
      ]
    },
    {
      "cell_type": "markdown",
      "metadata": {
        "id": "ptQ5_xAuTJue"
      },
      "source": [
        "The same count (58,392) for artist, length, and song suggests these nulls occur together (likely non-song pages)\n",
        "\n",
        "Another group (8,346) affects user-related fields consistently"
      ]
    },
    {
      "cell_type": "code",
      "execution_count": 8,
      "metadata": {
        "colab": {
          "base_uri": "https://localhost:8080/"
        },
        "id": "c6nE8nXfTJuf",
        "outputId": "845c4fdc-45cd-4faf-c552-adea5c77ab78"
      },
      "outputs": [
        {
          "output_type": "stream",
          "name": "stdout",
          "text": [
            "Total records after cleaning: 278154\n"
          ]
        }
      ],
      "source": [
        "# Filter out rows where userId is an empty string\n",
        "df = df.filter(df.userId != '')\n",
        "print(f\"Total records after cleaning: {df.count()}\")"
      ]
    },
    {
      "cell_type": "markdown",
      "metadata": {
        "id": "5M5hRGpHTJuf"
      },
      "source": [
        "# Exploratory Data Analysis\n",
        "When you're working with the full dataset, perform EDA by loading a small subset of the data and doing basic manipulations within Spark. In this workspace, you are already provided a small subset of data you can explore.\n",
        "\n",
        "### Define Churn\n",
        "\n",
        "Once you've done some preliminary analysis, create a column `Churn` to use as the label for your model. I suggest using the `Cancellation Confirmation` events to define your churn, which happen for both paid and free users. As a bonus task, you can also look into the `Downgrade` events.\n",
        "\n",
        "### Explore Data\n",
        "Once you've defined churn, perform some exploratory data analysis to observe the behavior for users who stayed vs users who churned. You can start by exploring aggregates on these two groups of users, observing how much of a specific action they experienced per a certain time unit or number of songs played."
      ]
    },
    {
      "cell_type": "markdown",
      "metadata": {
        "id": "4-qYCqUOTJuf"
      },
      "source": [
        "Churn is when a user cancels their subscription. We’ll identify them by Cancellation Confirmation events."
      ]
    },
    {
      "cell_type": "markdown",
      "metadata": {
        "id": "nmwf5FmwTJuf"
      },
      "source": [
        " ### Pages Analysis and defining churn"
      ]
    },
    {
      "cell_type": "code",
      "execution_count": 9,
      "metadata": {
        "colab": {
          "base_uri": "https://localhost:8080/",
          "height": 645
        },
        "id": "fW9Ei-QhTJuf",
        "outputId": "a84c2008-e3bd-405e-c19b-2317d909c49d"
      },
      "outputs": [
        {
          "output_type": "execute_result",
          "data": {
            "text/plain": [
              "                         page   count\n",
              "0                    NextSong  228108\n",
              "1                   Thumbs Up   12551\n",
              "2                        Home   10082\n",
              "3             Add to Playlist    6526\n",
              "4                  Add Friend    4277\n",
              "5                 Roll Advert    3933\n",
              "6                      Logout    3226\n",
              "7                 Thumbs Down    2546\n",
              "8                   Downgrade    2055\n",
              "9                    Settings    1514\n",
              "10                       Help    1454\n",
              "11                    Upgrade     499\n",
              "12                      About     495\n",
              "13              Save Settings     310\n",
              "14                      Error     252\n",
              "15             Submit Upgrade     159\n",
              "16           Submit Downgrade      63\n",
              "17                     Cancel      52\n",
              "18  Cancellation Confirmation      52"
            ],
            "text/html": [
              "\n",
              "  <div id=\"df-c208f269-ccb5-4b9e-a8da-e77680181802\" class=\"colab-df-container\">\n",
              "    <div>\n",
              "<style scoped>\n",
              "    .dataframe tbody tr th:only-of-type {\n",
              "        vertical-align: middle;\n",
              "    }\n",
              "\n",
              "    .dataframe tbody tr th {\n",
              "        vertical-align: top;\n",
              "    }\n",
              "\n",
              "    .dataframe thead th {\n",
              "        text-align: right;\n",
              "    }\n",
              "</style>\n",
              "<table border=\"1\" class=\"dataframe\">\n",
              "  <thead>\n",
              "    <tr style=\"text-align: right;\">\n",
              "      <th></th>\n",
              "      <th>page</th>\n",
              "      <th>count</th>\n",
              "    </tr>\n",
              "  </thead>\n",
              "  <tbody>\n",
              "    <tr>\n",
              "      <th>0</th>\n",
              "      <td>NextSong</td>\n",
              "      <td>228108</td>\n",
              "    </tr>\n",
              "    <tr>\n",
              "      <th>1</th>\n",
              "      <td>Thumbs Up</td>\n",
              "      <td>12551</td>\n",
              "    </tr>\n",
              "    <tr>\n",
              "      <th>2</th>\n",
              "      <td>Home</td>\n",
              "      <td>10082</td>\n",
              "    </tr>\n",
              "    <tr>\n",
              "      <th>3</th>\n",
              "      <td>Add to Playlist</td>\n",
              "      <td>6526</td>\n",
              "    </tr>\n",
              "    <tr>\n",
              "      <th>4</th>\n",
              "      <td>Add Friend</td>\n",
              "      <td>4277</td>\n",
              "    </tr>\n",
              "    <tr>\n",
              "      <th>5</th>\n",
              "      <td>Roll Advert</td>\n",
              "      <td>3933</td>\n",
              "    </tr>\n",
              "    <tr>\n",
              "      <th>6</th>\n",
              "      <td>Logout</td>\n",
              "      <td>3226</td>\n",
              "    </tr>\n",
              "    <tr>\n",
              "      <th>7</th>\n",
              "      <td>Thumbs Down</td>\n",
              "      <td>2546</td>\n",
              "    </tr>\n",
              "    <tr>\n",
              "      <th>8</th>\n",
              "      <td>Downgrade</td>\n",
              "      <td>2055</td>\n",
              "    </tr>\n",
              "    <tr>\n",
              "      <th>9</th>\n",
              "      <td>Settings</td>\n",
              "      <td>1514</td>\n",
              "    </tr>\n",
              "    <tr>\n",
              "      <th>10</th>\n",
              "      <td>Help</td>\n",
              "      <td>1454</td>\n",
              "    </tr>\n",
              "    <tr>\n",
              "      <th>11</th>\n",
              "      <td>Upgrade</td>\n",
              "      <td>499</td>\n",
              "    </tr>\n",
              "    <tr>\n",
              "      <th>12</th>\n",
              "      <td>About</td>\n",
              "      <td>495</td>\n",
              "    </tr>\n",
              "    <tr>\n",
              "      <th>13</th>\n",
              "      <td>Save Settings</td>\n",
              "      <td>310</td>\n",
              "    </tr>\n",
              "    <tr>\n",
              "      <th>14</th>\n",
              "      <td>Error</td>\n",
              "      <td>252</td>\n",
              "    </tr>\n",
              "    <tr>\n",
              "      <th>15</th>\n",
              "      <td>Submit Upgrade</td>\n",
              "      <td>159</td>\n",
              "    </tr>\n",
              "    <tr>\n",
              "      <th>16</th>\n",
              "      <td>Submit Downgrade</td>\n",
              "      <td>63</td>\n",
              "    </tr>\n",
              "    <tr>\n",
              "      <th>17</th>\n",
              "      <td>Cancel</td>\n",
              "      <td>52</td>\n",
              "    </tr>\n",
              "    <tr>\n",
              "      <th>18</th>\n",
              "      <td>Cancellation Confirmation</td>\n",
              "      <td>52</td>\n",
              "    </tr>\n",
              "  </tbody>\n",
              "</table>\n",
              "</div>\n",
              "    <div class=\"colab-df-buttons\">\n",
              "\n",
              "  <div class=\"colab-df-container\">\n",
              "    <button class=\"colab-df-convert\" onclick=\"convertToInteractive('df-c208f269-ccb5-4b9e-a8da-e77680181802')\"\n",
              "            title=\"Convert this dataframe to an interactive table.\"\n",
              "            style=\"display:none;\">\n",
              "\n",
              "  <svg xmlns=\"http://www.w3.org/2000/svg\" height=\"24px\" viewBox=\"0 -960 960 960\">\n",
              "    <path d=\"M120-120v-720h720v720H120Zm60-500h600v-160H180v160Zm220 220h160v-160H400v160Zm0 220h160v-160H400v160ZM180-400h160v-160H180v160Zm440 0h160v-160H620v160ZM180-180h160v-160H180v160Zm440 0h160v-160H620v160Z\"/>\n",
              "  </svg>\n",
              "    </button>\n",
              "\n",
              "  <style>\n",
              "    .colab-df-container {\n",
              "      display:flex;\n",
              "      gap: 12px;\n",
              "    }\n",
              "\n",
              "    .colab-df-convert {\n",
              "      background-color: #E8F0FE;\n",
              "      border: none;\n",
              "      border-radius: 50%;\n",
              "      cursor: pointer;\n",
              "      display: none;\n",
              "      fill: #1967D2;\n",
              "      height: 32px;\n",
              "      padding: 0 0 0 0;\n",
              "      width: 32px;\n",
              "    }\n",
              "\n",
              "    .colab-df-convert:hover {\n",
              "      background-color: #E2EBFA;\n",
              "      box-shadow: 0px 1px 2px rgba(60, 64, 67, 0.3), 0px 1px 3px 1px rgba(60, 64, 67, 0.15);\n",
              "      fill: #174EA6;\n",
              "    }\n",
              "\n",
              "    .colab-df-buttons div {\n",
              "      margin-bottom: 4px;\n",
              "    }\n",
              "\n",
              "    [theme=dark] .colab-df-convert {\n",
              "      background-color: #3B4455;\n",
              "      fill: #D2E3FC;\n",
              "    }\n",
              "\n",
              "    [theme=dark] .colab-df-convert:hover {\n",
              "      background-color: #434B5C;\n",
              "      box-shadow: 0px 1px 3px 1px rgba(0, 0, 0, 0.15);\n",
              "      filter: drop-shadow(0px 1px 2px rgba(0, 0, 0, 0.3));\n",
              "      fill: #FFFFFF;\n",
              "    }\n",
              "  </style>\n",
              "\n",
              "    <script>\n",
              "      const buttonEl =\n",
              "        document.querySelector('#df-c208f269-ccb5-4b9e-a8da-e77680181802 button.colab-df-convert');\n",
              "      buttonEl.style.display =\n",
              "        google.colab.kernel.accessAllowed ? 'block' : 'none';\n",
              "\n",
              "      async function convertToInteractive(key) {\n",
              "        const element = document.querySelector('#df-c208f269-ccb5-4b9e-a8da-e77680181802');\n",
              "        const dataTable =\n",
              "          await google.colab.kernel.invokeFunction('convertToInteractive',\n",
              "                                                    [key], {});\n",
              "        if (!dataTable) return;\n",
              "\n",
              "        const docLinkHtml = 'Like what you see? Visit the ' +\n",
              "          '<a target=\"_blank\" href=https://colab.research.google.com/notebooks/data_table.ipynb>data table notebook</a>'\n",
              "          + ' to learn more about interactive tables.';\n",
              "        element.innerHTML = '';\n",
              "        dataTable['output_type'] = 'display_data';\n",
              "        await google.colab.output.renderOutput(dataTable, element);\n",
              "        const docLink = document.createElement('div');\n",
              "        docLink.innerHTML = docLinkHtml;\n",
              "        element.appendChild(docLink);\n",
              "      }\n",
              "    </script>\n",
              "  </div>\n",
              "\n",
              "\n",
              "<div id=\"df-d8830b5e-1a46-46ff-9d02-af51139763ff\">\n",
              "  <button class=\"colab-df-quickchart\" onclick=\"quickchart('df-d8830b5e-1a46-46ff-9d02-af51139763ff')\"\n",
              "            title=\"Suggest charts\"\n",
              "            style=\"display:none;\">\n",
              "\n",
              "<svg xmlns=\"http://www.w3.org/2000/svg\" height=\"24px\"viewBox=\"0 0 24 24\"\n",
              "     width=\"24px\">\n",
              "    <g>\n",
              "        <path d=\"M19 3H5c-1.1 0-2 .9-2 2v14c0 1.1.9 2 2 2h14c1.1 0 2-.9 2-2V5c0-1.1-.9-2-2-2zM9 17H7v-7h2v7zm4 0h-2V7h2v10zm4 0h-2v-4h2v4z\"/>\n",
              "    </g>\n",
              "</svg>\n",
              "  </button>\n",
              "\n",
              "<style>\n",
              "  .colab-df-quickchart {\n",
              "      --bg-color: #E8F0FE;\n",
              "      --fill-color: #1967D2;\n",
              "      --hover-bg-color: #E2EBFA;\n",
              "      --hover-fill-color: #174EA6;\n",
              "      --disabled-fill-color: #AAA;\n",
              "      --disabled-bg-color: #DDD;\n",
              "  }\n",
              "\n",
              "  [theme=dark] .colab-df-quickchart {\n",
              "      --bg-color: #3B4455;\n",
              "      --fill-color: #D2E3FC;\n",
              "      --hover-bg-color: #434B5C;\n",
              "      --hover-fill-color: #FFFFFF;\n",
              "      --disabled-bg-color: #3B4455;\n",
              "      --disabled-fill-color: #666;\n",
              "  }\n",
              "\n",
              "  .colab-df-quickchart {\n",
              "    background-color: var(--bg-color);\n",
              "    border: none;\n",
              "    border-radius: 50%;\n",
              "    cursor: pointer;\n",
              "    display: none;\n",
              "    fill: var(--fill-color);\n",
              "    height: 32px;\n",
              "    padding: 0;\n",
              "    width: 32px;\n",
              "  }\n",
              "\n",
              "  .colab-df-quickchart:hover {\n",
              "    background-color: var(--hover-bg-color);\n",
              "    box-shadow: 0 1px 2px rgba(60, 64, 67, 0.3), 0 1px 3px 1px rgba(60, 64, 67, 0.15);\n",
              "    fill: var(--button-hover-fill-color);\n",
              "  }\n",
              "\n",
              "  .colab-df-quickchart-complete:disabled,\n",
              "  .colab-df-quickchart-complete:disabled:hover {\n",
              "    background-color: var(--disabled-bg-color);\n",
              "    fill: var(--disabled-fill-color);\n",
              "    box-shadow: none;\n",
              "  }\n",
              "\n",
              "  .colab-df-spinner {\n",
              "    border: 2px solid var(--fill-color);\n",
              "    border-color: transparent;\n",
              "    border-bottom-color: var(--fill-color);\n",
              "    animation:\n",
              "      spin 1s steps(1) infinite;\n",
              "  }\n",
              "\n",
              "  @keyframes spin {\n",
              "    0% {\n",
              "      border-color: transparent;\n",
              "      border-bottom-color: var(--fill-color);\n",
              "      border-left-color: var(--fill-color);\n",
              "    }\n",
              "    20% {\n",
              "      border-color: transparent;\n",
              "      border-left-color: var(--fill-color);\n",
              "      border-top-color: var(--fill-color);\n",
              "    }\n",
              "    30% {\n",
              "      border-color: transparent;\n",
              "      border-left-color: var(--fill-color);\n",
              "      border-top-color: var(--fill-color);\n",
              "      border-right-color: var(--fill-color);\n",
              "    }\n",
              "    40% {\n",
              "      border-color: transparent;\n",
              "      border-right-color: var(--fill-color);\n",
              "      border-top-color: var(--fill-color);\n",
              "    }\n",
              "    60% {\n",
              "      border-color: transparent;\n",
              "      border-right-color: var(--fill-color);\n",
              "    }\n",
              "    80% {\n",
              "      border-color: transparent;\n",
              "      border-right-color: var(--fill-color);\n",
              "      border-bottom-color: var(--fill-color);\n",
              "    }\n",
              "    90% {\n",
              "      border-color: transparent;\n",
              "      border-bottom-color: var(--fill-color);\n",
              "    }\n",
              "  }\n",
              "</style>\n",
              "\n",
              "  <script>\n",
              "    async function quickchart(key) {\n",
              "      const quickchartButtonEl =\n",
              "        document.querySelector('#' + key + ' button');\n",
              "      quickchartButtonEl.disabled = true;  // To prevent multiple clicks.\n",
              "      quickchartButtonEl.classList.add('colab-df-spinner');\n",
              "      try {\n",
              "        const charts = await google.colab.kernel.invokeFunction(\n",
              "            'suggestCharts', [key], {});\n",
              "      } catch (error) {\n",
              "        console.error('Error during call to suggestCharts:', error);\n",
              "      }\n",
              "      quickchartButtonEl.classList.remove('colab-df-spinner');\n",
              "      quickchartButtonEl.classList.add('colab-df-quickchart-complete');\n",
              "    }\n",
              "    (() => {\n",
              "      let quickchartButtonEl =\n",
              "        document.querySelector('#df-d8830b5e-1a46-46ff-9d02-af51139763ff button');\n",
              "      quickchartButtonEl.style.display =\n",
              "        google.colab.kernel.accessAllowed ? 'block' : 'none';\n",
              "    })();\n",
              "  </script>\n",
              "</div>\n",
              "\n",
              "  <div id=\"id_0b5ae6d9-4d16-4bfd-a67e-f39f8845c00a\">\n",
              "    <style>\n",
              "      .colab-df-generate {\n",
              "        background-color: #E8F0FE;\n",
              "        border: none;\n",
              "        border-radius: 50%;\n",
              "        cursor: pointer;\n",
              "        display: none;\n",
              "        fill: #1967D2;\n",
              "        height: 32px;\n",
              "        padding: 0 0 0 0;\n",
              "        width: 32px;\n",
              "      }\n",
              "\n",
              "      .colab-df-generate:hover {\n",
              "        background-color: #E2EBFA;\n",
              "        box-shadow: 0px 1px 2px rgba(60, 64, 67, 0.3), 0px 1px 3px 1px rgba(60, 64, 67, 0.15);\n",
              "        fill: #174EA6;\n",
              "      }\n",
              "\n",
              "      [theme=dark] .colab-df-generate {\n",
              "        background-color: #3B4455;\n",
              "        fill: #D2E3FC;\n",
              "      }\n",
              "\n",
              "      [theme=dark] .colab-df-generate:hover {\n",
              "        background-color: #434B5C;\n",
              "        box-shadow: 0px 1px 3px 1px rgba(0, 0, 0, 0.15);\n",
              "        filter: drop-shadow(0px 1px 2px rgba(0, 0, 0, 0.3));\n",
              "        fill: #FFFFFF;\n",
              "      }\n",
              "    </style>\n",
              "    <button class=\"colab-df-generate\" onclick=\"generateWithVariable('pages')\"\n",
              "            title=\"Generate code using this dataframe.\"\n",
              "            style=\"display:none;\">\n",
              "\n",
              "  <svg xmlns=\"http://www.w3.org/2000/svg\" height=\"24px\"viewBox=\"0 0 24 24\"\n",
              "       width=\"24px\">\n",
              "    <path d=\"M7,19H8.4L18.45,9,17,7.55,7,17.6ZM5,21V16.75L18.45,3.32a2,2,0,0,1,2.83,0l1.4,1.43a1.91,1.91,0,0,1,.58,1.4,1.91,1.91,0,0,1-.58,1.4L9.25,21ZM18.45,9,17,7.55Zm-12,3A5.31,5.31,0,0,0,4.9,8.1,5.31,5.31,0,0,0,1,6.5,5.31,5.31,0,0,0,4.9,4.9,5.31,5.31,0,0,0,6.5,1,5.31,5.31,0,0,0,8.1,4.9,5.31,5.31,0,0,0,12,6.5,5.46,5.46,0,0,0,6.5,12Z\"/>\n",
              "  </svg>\n",
              "    </button>\n",
              "    <script>\n",
              "      (() => {\n",
              "      const buttonEl =\n",
              "        document.querySelector('#id_0b5ae6d9-4d16-4bfd-a67e-f39f8845c00a button.colab-df-generate');\n",
              "      buttonEl.style.display =\n",
              "        google.colab.kernel.accessAllowed ? 'block' : 'none';\n",
              "\n",
              "      buttonEl.onclick = () => {\n",
              "        google.colab.notebook.generateWithVariable('pages');\n",
              "      }\n",
              "      })();\n",
              "    </script>\n",
              "  </div>\n",
              "\n",
              "    </div>\n",
              "  </div>\n"
            ],
            "application/vnd.google.colaboratory.intrinsic+json": {
              "type": "dataframe",
              "variable_name": "pages",
              "summary": "{\n  \"name\": \"pages\",\n  \"rows\": 19,\n  \"fields\": [\n    {\n      \"column\": \"page\",\n      \"properties\": {\n        \"dtype\": \"string\",\n        \"num_unique_values\": 19,\n        \"samples\": [\n          \"NextSong\",\n          \"Roll Advert\",\n          \"Upgrade\"\n        ],\n        \"semantic_type\": \"\",\n        \"description\": \"\"\n      }\n    },\n    {\n      \"column\": \"count\",\n      \"properties\": {\n        \"dtype\": \"number\",\n        \"std\": 51813,\n        \"min\": 52,\n        \"max\": 228108,\n        \"num_unique_values\": 18,\n        \"samples\": [\n          228108,\n          12551,\n          2055\n        ],\n        \"semantic_type\": \"\",\n        \"description\": \"\"\n      }\n    }\n  ]\n}"
            }
          },
          "metadata": {},
          "execution_count": 9
        }
      ],
      "source": [
        "pages = df.select('page').groupBy('page').count().orderBy('count', ascending=False).toPandas()\n",
        "pages"
      ]
    },
    {
      "cell_type": "markdown",
      "metadata": {
        "id": "1JiZXl20TJug"
      },
      "source": [
        "Churn is when a user cancels their subscription. We’ll identify them by Cancellation Confirmation events."
      ]
    },
    {
      "cell_type": "code",
      "execution_count": 10,
      "metadata": {
        "colab": {
          "base_uri": "https://localhost:8080/"
        },
        "id": "JzI_MowpTJug",
        "outputId": "423489ae-f35b-40ed-870c-48cf392a4456"
      },
      "outputs": [
        {
          "output_type": "stream",
          "name": "stdout",
          "text": [
            "+------+-----+\n",
            "|userId|churn|\n",
            "+------+-----+\n",
            "|   125|    1|\n",
            "|    51|    1|\n",
            "|   124|    0|\n",
            "|     7|    0|\n",
            "|    54|    1|\n",
            "|    15|    0|\n",
            "|   155|    0|\n",
            "|   132|    0|\n",
            "|   154|    0|\n",
            "|   101|    1|\n",
            "|    11|    0|\n",
            "|   138|    0|\n",
            "|    29|    1|\n",
            "|    69|    0|\n",
            "|    42|    0|\n",
            "|   112|    0|\n",
            "|    87|    1|\n",
            "|    73|    1|\n",
            "|    64|    0|\n",
            "|     3|    1|\n",
            "+------+-----+\n",
            "only showing top 20 rows\n",
            "\n"
          ]
        }
      ],
      "source": [
        "# defining Churn Label data\n",
        "churned_df = df.withColumn('churn', when((col('page').isin(['Cancellation Confirmation'])),1 ).otherwise(0))\\\n",
        "      .groupBy('userId').agg(sum('churn').alias('churn')).withColumn('churn', when(col('churn')>=1 ,1).otherwise(0))\n",
        "\n",
        "churned_df.show()"
      ]
    },
    {
      "cell_type": "code",
      "execution_count": 11,
      "metadata": {
        "colab": {
          "base_uri": "https://localhost:8080/"
        },
        "id": "GGy24g4gTJug",
        "outputId": "8a0b6fef-35a0-467c-eaeb-5777b3b3f30a"
      },
      "outputs": [
        {
          "output_type": "stream",
          "name": "stdout",
          "text": [
            "+-----+-----+\n",
            "|churn|count|\n",
            "+-----+-----+\n",
            "|    1|   52|\n",
            "|    0|  173|\n",
            "+-----+-----+\n",
            "\n"
          ]
        }
      ],
      "source": [
        "# Join the churn status back with the main DataFrame\n",
        "df = df.join(churned_df, on='userId')\n",
        "\n",
        "#groupby churn to get counts\n",
        "df.select(['userId', 'churn']).dropDuplicates().groupBy('churn').count().show()"
      ]
    },
    {
      "cell_type": "markdown",
      "metadata": {
        "id": "p4dYzqMUTJug"
      },
      "source": [
        "52 churned users compared to 173 active users, which indicates that the dataset is quite imbalanced in terms of churn."
      ]
    },
    {
      "cell_type": "markdown",
      "metadata": {
        "id": "F0zWSReFTJuh"
      },
      "source": [
        "### Churn by activity level"
      ]
    },
    {
      "cell_type": "markdown",
      "metadata": {
        "id": "19e5OwApTJuh"
      },
      "source": [
        "let's explore the activity level of these users to see how engaged the churned users were compared to the non-churned users. We can do this by looking at the average itemInSession (which shows how many items a user interacted with in a session) and average session length (length).\n"
      ]
    },
    {
      "cell_type": "code",
      "execution_count": 12,
      "metadata": {
        "colab": {
          "base_uri": "https://localhost:8080/"
        },
        "id": "W_N3W1KTTJuh",
        "outputId": "0959ca9d-a9f1-4065-ac46-da16ca66f5d4"
      },
      "outputs": [
        {
          "output_type": "stream",
          "name": "stdout",
          "text": [
            "+-----+-------------------+------------------+\n",
            "|churn|avg_item_in_session|avg_session_length|\n",
            "+-----+-------------------+------------------+\n",
            "|    1| 109.23299304564907|248.63279564406238|\n",
            "|    0|  115.9888465000643|249.20913538880825|\n",
            "+-----+-------------------+------------------+\n",
            "\n"
          ]
        }
      ],
      "source": [
        "# Calculate average itemInSession and session length for each churn group\n",
        "activity_analysis = df.groupBy(\"churn\") \\\n",
        "    .agg(\n",
        "        {\"itemInSession\": \"avg\", \"length\": \"avg\"}\n",
        "    ).withColumnRenamed(\"avg(itemInSession)\", \"avg_item_in_session\") \\\n",
        "     .withColumnRenamed(\"avg(length)\", \"avg_session_length\")\n",
        "\n",
        "# Show the activity analysis for churned vs non-churned users\n",
        "activity_analysis.show()\n",
        "\n"
      ]
    },
    {
      "cell_type": "markdown",
      "metadata": {
        "id": "0NhNITIoTJuh"
      },
      "source": [
        "This suggests that churned users weren't drastically less engaged in terms of session length or item interactions."
      ]
    },
    {
      "cell_type": "markdown",
      "metadata": {
        "id": "G9ls92mZTJuh"
      },
      "source": [
        "### Churn by Gender and Subscription Level\n"
      ]
    },
    {
      "cell_type": "code",
      "execution_count": 13,
      "metadata": {
        "colab": {
          "base_uri": "https://localhost:8080/"
        },
        "id": "1DbjtYFoTJuh",
        "outputId": "78f73d15-686f-4383-c034-62aeeff45716"
      },
      "outputs": [
        {
          "output_type": "stream",
          "name": "stdout",
          "text": [
            "+------+-----+-----+\n",
            "|gender|churn|count|\n",
            "+------+-----+-----+\n",
            "|     M|    1|   32|\n",
            "|     F|    0|   84|\n",
            "|     F|    1|   20|\n",
            "|     M|    0|   89|\n",
            "+------+-----+-----+\n",
            "\n"
          ]
        }
      ],
      "source": [
        "# churn by gender\n",
        "df.select('userId','gender','churn') \\\n",
        "    .distinct() \\\n",
        "    .groupBy('gender','churn') \\\n",
        "    .count() \\\n",
        "    .show()"
      ]
    },
    {
      "cell_type": "markdown",
      "metadata": {
        "id": "_QLVjDplTJui"
      },
      "source": [
        "It appears that females and free-tier users have slightly higher churn rates, but the overall churn distribution is still imbalanced, with fewer churned users in general."
      ]
    },
    {
      "cell_type": "code",
      "execution_count": 14,
      "metadata": {
        "colab": {
          "base_uri": "https://localhost:8080/"
        },
        "id": "EetJdCjxTJui",
        "outputId": "c3f5bb50-cd75-4bc8-9dfb-a40d2a5e8347"
      },
      "outputs": [
        {
          "output_type": "stream",
          "name": "stdout",
          "text": [
            "+-----+-----+-----+\n",
            "|level|churn|count|\n",
            "+-----+-----+-----+\n",
            "| paid|    0|  129|\n",
            "| free|    0|  149|\n",
            "| paid|    1|   36|\n",
            "| free|    1|   46|\n",
            "+-----+-----+-----+\n",
            "\n"
          ]
        }
      ],
      "source": [
        "# Churn by subscription level\n",
        "df.select('userId', 'level', 'churn') \\\n",
        "    .distinct() \\\n",
        "    .groupBy('level', 'churn') \\\n",
        "    .count() \\\n",
        "    .show()"
      ]
    },
    {
      "cell_type": "markdown",
      "metadata": {
        "id": "ZuvIPSgnTJui"
      },
      "source": [
        "# Feature Engineering\n",
        "Once you've familiarized yourself with the data, build out the features you find promising to train your model on. To work with the full dataset, you can follow the following steps.\n",
        "- Write a script to extract the necessary features from the smaller subset of data\n",
        "- Ensure that your script is scalable, using the best practices discussed in Lesson 3\n",
        "- Try your script on the full data set, debugging your script if necessary\n",
        "\n",
        "If you are working in the classroom workspace, you can just extract features based on the small subset of data contained here. Be sure to transfer over this work to the larger dataset when you work on your Spark cluster."
      ]
    },
    {
      "cell_type": "markdown",
      "metadata": {
        "id": "tmxxFR8xTJui"
      },
      "source": [
        "### Time-based Features"
      ]
    },
    {
      "cell_type": "markdown",
      "metadata": {
        "id": "W1hN5KuZTJui"
      },
      "source": [
        "Change to datetime format and add them to the dataframe"
      ]
    },
    {
      "cell_type": "code",
      "execution_count": 15,
      "metadata": {
        "id": "HJ5MWIl_TJui"
      },
      "outputs": [],
      "source": [
        "#Change to datetime format and add them to the dataframe\n",
        "\n",
        "df = df.withColumn(\"registration_time\", from_unixtime(col(\"registration\") / 1000))\n",
        "df = df.withColumn(\"event_time\", from_unixtime(col(\"ts\") / 1000))"
      ]
    },
    {
      "cell_type": "code",
      "execution_count": 16,
      "metadata": {
        "id": "G1zVTlR3TJui"
      },
      "outputs": [],
      "source": [
        "#Creating a column of last interaction per user\n",
        "\n",
        "last_interaction_df =  df.groupBy('userId').agg(max('ts').alias('lastIteraction'))\n",
        "df = last_interaction_df.join(df, on= 'userId', how='left').withColumn('registeredDays', ((f.col('lastIteraction')-f.col('registration'))/86400000).cast(IntegerType()))"
      ]
    },
    {
      "cell_type": "markdown",
      "metadata": {
        "id": "nFltPlSyTJuj"
      },
      "source": [
        "### Session-based Features:"
      ]
    },
    {
      "cell_type": "code",
      "execution_count": 17,
      "metadata": {
        "id": "3gGqBGZxTJuj"
      },
      "outputs": [],
      "source": [
        "# Number of sessions per user\n",
        "df_session_count = df.groupBy(\"userId\").agg(\n",
        "    f.countDistinct(\"sessionId\").alias(\"session_count\")\n",
        ")\n"
      ]
    },
    {
      "cell_type": "code",
      "execution_count": 18,
      "metadata": {
        "id": "QPmRFXiPTJuj"
      },
      "outputs": [],
      "source": [
        "# Average session length per user\n",
        "df_avg_session_length = df.groupBy(\"userId\").agg(\n",
        "    f.avg(\"length\").alias(\"avg_session_length\")\n",
        ")"
      ]
    },
    {
      "cell_type": "code",
      "execution_count": 19,
      "metadata": {
        "id": "NoyrCYpdTJuj"
      },
      "outputs": [],
      "source": [
        "# Max session length per user\n",
        "df_max_session_length = df.groupBy(\"userId\").agg(\n",
        "    f.max(\"length\").alias(\"max_session_length\")\n",
        ")"
      ]
    },
    {
      "cell_type": "markdown",
      "metadata": {
        "id": "QDfixX1bTJuj"
      },
      "source": [
        "### User Behavior Features:"
      ]
    },
    {
      "cell_type": "code",
      "execution_count": 20,
      "metadata": {
        "id": "6y6T6mj3TJuj"
      },
      "outputs": [],
      "source": [
        "# Total songs played per user\n",
        "df_total_songs_played = df.groupBy(\"userId\").agg(\n",
        "    f.countDistinct(\"song\").alias(\"total_songs_played\")\n",
        ")"
      ]
    },
    {
      "cell_type": "code",
      "execution_count": 21,
      "metadata": {
        "id": "i602x-VCTJuk"
      },
      "outputs": [],
      "source": [
        "# Total interactions per user (page views, song plays, etc.)\n",
        "df_total_interactions = df.groupBy(\"userId\").agg(\n",
        "    f.count(\"page\").alias(\"total_interactions\")\n",
        ")"
      ]
    },
    {
      "cell_type": "code",
      "execution_count": 22,
      "metadata": {
        "id": "jMxPd8s5TJuk"
      },
      "outputs": [],
      "source": [
        "# Number of roll ads actions per user\n",
        "df_roll_ads = df.filter(df.page == \"Roll Advert\").groupBy(\"userId\").agg(\n",
        "    f.count(\"page\").alias(\"num_roll_ads\")\n",
        ")"
      ]
    },
    {
      "cell_type": "code",
      "execution_count": 23,
      "metadata": {
        "id": "z2G6C-PSTJuk"
      },
      "outputs": [],
      "source": [
        "# Number of thumbs down actions per user\n",
        "df_thumb_down = df.filter(df.page == \"Thumbs Down\").groupBy(\"userId\").agg(\n",
        "    f.count(\"page\").alias(\"num_thumb_down\")\n",
        ")\n"
      ]
    },
    {
      "cell_type": "code",
      "execution_count": 24,
      "metadata": {
        "id": "cMiNYGh8TJuk"
      },
      "outputs": [],
      "source": [
        "# Number of thumbs up actions per user\n",
        "df_thumb_up = df.filter(df.page == \"Thumbs Up\").groupBy(\"userId\").agg(\n",
        "    f.count(\"page\").alias(\"num_thumb_up\")\n",
        ")"
      ]
    },
    {
      "cell_type": "code",
      "execution_count": 25,
      "metadata": {
        "id": "bkh2wT2PTJuk"
      },
      "outputs": [],
      "source": [
        "# Number of friends added per user\n",
        "df_friends_added = df.filter(df.page == \"Add Friend\").groupBy(\"userId\").agg(\n",
        "    f.count(\"page\").alias(\"num_friends_added\")\n",
        ")"
      ]
    },
    {
      "cell_type": "code",
      "execution_count": 26,
      "metadata": {
        "id": "uM04_LqXTJul"
      },
      "outputs": [],
      "source": [
        "# Number of songs added to playlist per user\n",
        "df_songs_added_to_playlist = df.filter(df.page == \"Add to Playlist\").groupBy(\"userId\").agg(\n",
        "    f.count(\"page\").alias(\"num_songs_added_to_playlist\")\n",
        ")"
      ]
    },
    {
      "cell_type": "code",
      "execution_count": 27,
      "metadata": {
        "colab": {
          "base_uri": "https://localhost:8080/"
        },
        "id": "M6gYsvssTJul",
        "outputId": "79fc41cf-97ea-466d-984e-27cbba27d713"
      },
      "outputs": [
        {
          "output_type": "execute_result",
          "data": {
            "text/plain": [
              "[Row(userId='124', lastIteraction=1543590766000, artist=None, auth='Logged In', firstName='Nicole', gender='F', itemInSession=0, lastName='Beck', length=None, level='paid', location='Vineland-Bridgeton, NJ', method='GET', page='Home', registration=1532224335000, sessionId=123, song=None, status=200, ts=1538407030000, userAgent='\"Mozilla/5.0 (Macintosh; Intel Mac OS X 10_9_4) AppleWebKit/537.36 (KHTML, like Gecko) Chrome/36.0.1985.143 Safari/537.36\"', churn=0, registration_time='2018-07-22 01:52:15', event_time='2018-10-01 15:17:10', registeredDays=131, session_count=29, avg_session_length=248.17653659965674, max_session_length=2369.04444, total_songs_played=3339, total_interactions=4825, num_roll_ads=4, num_thumb_down=41, num_thumb_up=171, num_friends_added=74, num_songs_added_to_playlist=118),\n",
              " Row(userId='124', lastIteraction=1543590766000, artist='Train', auth='Logged In', firstName='Nicole', gender='F', itemInSession=1, lastName='Beck', length=227.47383, level='paid', location='Vineland-Bridgeton, NJ', method='PUT', page='NextSong', registration=1532224335000, sessionId=123, song='I Got You', status=200, ts=1538407032000, userAgent='\"Mozilla/5.0 (Macintosh; Intel Mac OS X 10_9_4) AppleWebKit/537.36 (KHTML, like Gecko) Chrome/36.0.1985.143 Safari/537.36\"', churn=0, registration_time='2018-07-22 01:52:15', event_time='2018-10-01 15:17:12', registeredDays=131, session_count=29, avg_session_length=248.17653659965674, max_session_length=2369.04444, total_songs_played=3339, total_interactions=4825, num_roll_ads=4, num_thumb_down=41, num_thumb_up=171, num_friends_added=74, num_songs_added_to_playlist=118),\n",
              " Row(userId='124', lastIteraction=1543590766000, artist='Tom Petty And The Heartbreakers', auth='Logged In', firstName='Nicole', gender='F', itemInSession=2, lastName='Beck', length=223.16363, level='paid', location='Vineland-Bridgeton, NJ', method='PUT', page='NextSong', registration=1532224335000, sessionId=123, song='Into The Great Wide Open', status=200, ts=1538407259000, userAgent='\"Mozilla/5.0 (Macintosh; Intel Mac OS X 10_9_4) AppleWebKit/537.36 (KHTML, like Gecko) Chrome/36.0.1985.143 Safari/537.36\"', churn=0, registration_time='2018-07-22 01:52:15', event_time='2018-10-01 15:20:59', registeredDays=131, session_count=29, avg_session_length=248.17653659965674, max_session_length=2369.04444, total_songs_played=3339, total_interactions=4825, num_roll_ads=4, num_thumb_down=41, num_thumb_up=171, num_friends_added=74, num_songs_added_to_playlist=118)]"
            ]
          },
          "metadata": {},
          "execution_count": 27
        }
      ],
      "source": [
        "# Join all these new feature DataFrames to the main DataFrame\n",
        "\n",
        "df = df.join(df_session_count, on=\"userId\", how=\"left\")\n",
        "df = df.join(df_avg_session_length, on=\"userId\", how=\"left\")\n",
        "df = df.join(df_max_session_length, on=\"userId\", how=\"left\")\n",
        "df = df.join(df_total_songs_played, on=\"userId\", how=\"left\")\n",
        "df = df.join(df_total_interactions, on=\"userId\", how=\"left\")\n",
        "df = df.join(df_roll_ads, on=\"userId\", how=\"left\")\n",
        "df = df.join(df_thumb_down, on=\"userId\", how=\"left\")\n",
        "df = df.join(df_thumb_up, on=\"userId\", how=\"left\")\n",
        "df = df.join(df_friends_added, on=\"userId\", how=\"left\")\n",
        "df = df.join(df_songs_added_to_playlist, on=\"userId\", how=\"left\")\n",
        "\n",
        "df.take(3)"
      ]
    },
    {
      "cell_type": "code",
      "execution_count": 28,
      "metadata": {
        "colab": {
          "base_uri": "https://localhost:8080/"
        },
        "id": "IUc4BedZTJul",
        "outputId": "f5a40476-e016-4c58-b294-53ccf685511b"
      },
      "outputs": [
        {
          "output_type": "stream",
          "name": "stdout",
          "text": [
            "The dataframe imported has 278154 rows, and 33 columns.\n"
          ]
        }
      ],
      "source": [
        "num_rows = df.count()\n",
        "num_cols = len(df.dtypes)\n",
        "print(f'The dataframe imported has {num_rows} rows, and {num_cols} columns.')"
      ]
    },
    {
      "cell_type": "code",
      "execution_count": 29,
      "metadata": {
        "id": "LG3wlEimTJul"
      },
      "outputs": [],
      "source": [
        "feature_df = df.groupBy(\"userId\").agg(\n",
        "    first(\"gender\").alias(\"gender\"),\n",
        "    last(\"level\").alias(\"level\"),  # last known level\n",
        "    first(\"churn\").alias(\"churn\"),\n",
        "    first(\"registeredDays\").alias(\"registeredDays\"),\n",
        "    first(\"session_count\").alias(\"session_count\"),\n",
        "    first(\"avg_session_length\").alias(\"avg_session_length\"),\n",
        "    first(\"max_session_length\").alias(\"max_session_length\"),\n",
        "    first(\"total_songs_played\").alias(\"total_songs_played\"),\n",
        "    first(\"total_interactions\").alias(\"total_interactions\"),\n",
        "    first(\"num_roll_ads\").alias(\"num_roll_ads\"),\n",
        "    first(\"num_thumb_down\").alias(\"num_thumb_down\"),\n",
        "    first(\"num_thumb_up\").alias(\"num_thumb_up\"),\n",
        "    first(\"num_friends_added\").alias(\"num_friends_added\"),\n",
        "    first(\"num_songs_added_to_playlist\").alias(\"num_songs_added_to_playlist\")\n",
        ")"
      ]
    },
    {
      "cell_type": "code",
      "execution_count": 30,
      "metadata": {
        "id": "69COTAK2TJul"
      },
      "outputs": [],
      "source": [
        "feature_df = feature_df.fillna(0)\n",
        "\n",
        "feature_df = feature_df.withColumnRenamed(\"churn\", \"label\")"
      ]
    },
    {
      "cell_type": "code",
      "execution_count": 31,
      "metadata": {
        "colab": {
          "base_uri": "https://localhost:8080/"
        },
        "id": "SO7-uJvjTJul",
        "outputId": "4fc4eef5-84ef-4492-bdb2-6f22f15e6fa4"
      },
      "outputs": [
        {
          "output_type": "stream",
          "name": "stdout",
          "text": [
            "+------+------+-----+-----+--------------+-------------+------------------+------------------+------------------+------------------+------------+--------------+------------+-----------------+---------------------------+\n",
            "|userId|gender|level|label|registeredDays|session_count|avg_session_length|max_session_length|total_songs_played|total_interactions|num_roll_ads|num_thumb_down|num_thumb_up|num_friends_added|num_songs_added_to_playlist|\n",
            "+------+------+-----+-----+--------------+-------------+------------------+------------------+------------------+------------------+------------+--------------+------------+-----------------+---------------------------+\n",
            "|   100|     M| paid|    0|            64|           35|250.88659828113387|        2520.99873|              2302|              3214|          25|            27|         148|               49|                         61|\n",
            "|100004|     F| paid|    0|           172|           21|245.73289733545636|        1485.97506|               881|              1245|          86|            11|          35|               19|                         23|\n",
            "|100005|     M| free|    1|            85|            5|240.50079227272732|          566.5171|               153|               216|          18|             3|           7|                3|                          3|\n",
            "+------+------+-----+-----+--------------+-------------+------------------+------------------+------------------+------------------+------------+--------------+------------+-----------------+---------------------------+\n",
            "only showing top 3 rows\n",
            "\n",
            "root\n",
            " |-- userId: string (nullable = true)\n",
            " |-- gender: string (nullable = true)\n",
            " |-- level: string (nullable = true)\n",
            " |-- label: integer (nullable = true)\n",
            " |-- registeredDays: integer (nullable = true)\n",
            " |-- session_count: long (nullable = true)\n",
            " |-- avg_session_length: double (nullable = false)\n",
            " |-- max_session_length: double (nullable = false)\n",
            " |-- total_songs_played: long (nullable = true)\n",
            " |-- total_interactions: long (nullable = true)\n",
            " |-- num_roll_ads: long (nullable = true)\n",
            " |-- num_thumb_down: long (nullable = true)\n",
            " |-- num_thumb_up: long (nullable = true)\n",
            " |-- num_friends_added: long (nullable = true)\n",
            " |-- num_songs_added_to_playlist: long (nullable = true)\n",
            "\n"
          ]
        }
      ],
      "source": [
        "feature_df.show(3)\n",
        "\n",
        "#check this works\n",
        "feature_df.printSchema()"
      ]
    },
    {
      "cell_type": "markdown",
      "metadata": {
        "id": "_aQ9wGyJTJul"
      },
      "source": [
        "## Processing\n",
        "\n",
        "Now we have a dataframe with all the features we can into our model where each row represents a user.However first we need to do some preprocessing."
      ]
    },
    {
      "cell_type": "markdown",
      "metadata": {
        "id": "7s9lNBD_TJul"
      },
      "source": [
        "### Encode categorical features (gender, level, userAgent and location)"
      ]
    },
    {
      "cell_type": "code",
      "execution_count": 32,
      "metadata": {
        "id": "s-_LuBEQTJum"
      },
      "outputs": [],
      "source": [
        "# StringIndexer for categorical columns\n",
        "gender_indexer = StringIndexer(inputCol=\"gender\", outputCol=\"gender_index\")\n",
        "level_indexer = StringIndexer(inputCol=\"level\", outputCol=\"level_index\")\n",
        "\n"
      ]
    },
    {
      "cell_type": "code",
      "execution_count": 33,
      "metadata": {
        "id": "ahlDOnD5TJum"
      },
      "outputs": [],
      "source": [
        "# VectorAssembler for all features\n",
        "assembler = VectorAssembler(\n",
        "    inputCols=[\n",
        "        \"registeredDays\",\n",
        "        \"session_count\",\n",
        "        \"avg_session_length\",\n",
        "        \"max_session_length\",\n",
        "        \"total_songs_played\",\n",
        "        \"total_interactions\",\n",
        "        \"num_roll_ads\",\n",
        "        \"num_thumb_down\",\n",
        "        \"num_thumb_up\",\n",
        "        \"num_friends_added\",\n",
        "        \"num_songs_added_to_playlist\",\n",
        "        \"gender_index\",\n",
        "        \"level_index\"\n",
        "    ],\n",
        "    outputCol=\"features\"\n",
        ")\n",
        "\n",
        "# Define pipeline\n",
        "pipeline = Pipeline(stages=[gender_indexer, level_indexer, assembler])\n",
        "\n",
        "# Fit and transform the data\n",
        "pipeline_model = pipeline.fit(feature_df)\n",
        "processed_df = pipeline_model.transform(feature_df)"
      ]
    },
    {
      "cell_type": "markdown",
      "metadata": {
        "id": "GwTAjAucTJum"
      },
      "source": [
        "# Modeling\n",
        "Split the full dataset into train, test, and validation sets. Test out several of the machine learning methods you learned. Evaluate the accuracy of the various models, tuning parameters as necessary. Determine your winning model based on test accuracy and report results on the validation set. Since the churned users are a fairly small subset, I suggest using F1 score as the metric to optimize."
      ]
    },
    {
      "cell_type": "code",
      "execution_count": 34,
      "metadata": {
        "colab": {
          "base_uri": "https://localhost:8080/"
        },
        "id": "lIjrwMN0TJum",
        "outputId": "9aa58866-9b05-41a8-fa30-97fa10cabec4"
      },
      "outputs": [
        {
          "output_type": "stream",
          "name": "stdout",
          "text": [
            "Train count: 153\n",
            "Validation count: 46\n",
            "Test count: 26\n"
          ]
        }
      ],
      "source": [
        "# Set seed for reproducibility\n",
        "train_data, val_data, test_data = processed_df.randomSplit([0.7, 0.15, 0.15], seed=42)\n",
        "\n",
        "# Optional: check counts\n",
        "print(f\"Train count: {train_data.count()}\")\n",
        "print(f\"Validation count: {val_data.count()}\")\n",
        "print(f\"Test count: {test_data.count()}\")"
      ]
    },
    {
      "cell_type": "code",
      "execution_count": 38,
      "metadata": {
        "id": "hpjufDYBTJum"
      },
      "outputs": [],
      "source": [
        "# instantiate all of our models and include a seed for reproduciblity where possible\n",
        "lr = LogisticRegression(featuresCol = 'features', labelCol = 'label', maxIter=10)\n",
        "rf = RandomForestClassifier(featuresCol = 'features', labelCol = 'label', seed=1996)\n",
        "gbt = GBTClassifier(featuresCol = 'features', labelCol = 'label', maxIter=10, seed=1996)\n",
        "lsvc = LinearSVC(featuresCol = 'features', labelCol = 'label')\n",
        "nb = NaiveBayes(featuresCol = 'features', labelCol = 'label')\n",
        "\n",
        "#list of models\n",
        "model_list = [lr,rf,gbt,lsvc,nb]\n",
        "\n",
        "\n"
      ]
    },
    {
      "cell_type": "code",
      "execution_count": 41,
      "metadata": {
        "id": "BpZ6zyAvTJum"
      },
      "outputs": [],
      "source": [
        "# evaluator we are using is multiclassclassificationevaluator to get the F1 scores\n",
        "evaluator = MulticlassClassificationEvaluator(labelCol = 'label', predictionCol='prediction')"
      ]
    },
    {
      "cell_type": "code",
      "execution_count": 42,
      "metadata": {
        "colab": {
          "base_uri": "https://localhost:8080/"
        },
        "id": "6i57TAxrTJum",
        "outputId": "317e945d-9a65-4d8f-f8e1-1f801b577110"
      },
      "outputs": [
        {
          "output_type": "stream",
          "name": "stdout",
          "text": [
            "LogisticRegression training started\n",
            "LogisticRegression training ended\n",
            "Time taken for LogisticRegression is: 152.3760223388672 seconds\n",
            "LogisticRegression predicting started\n",
            "LogisticRegression predicting ended\n",
            "F1 for LogisticRegression is: 0.7504290617848971\n",
            "The accuracy of the LogisticRegression model is: 0.782608695652174\n",
            "RandomForestClassifier training started\n",
            "RandomForestClassifier training ended\n",
            "Time taken for RandomForestClassifier is: 217.51329922676086 seconds\n",
            "RandomForestClassifier predicting started\n",
            "RandomForestClassifier predicting ended\n",
            "F1 for RandomForestClassifier is: 0.6467391304347826\n",
            "The accuracy of the RandomForestClassifier model is: 0.7391304347826086\n",
            "GBTClassifier training started\n",
            "GBTClassifier training ended\n",
            "Time taken for GBTClassifier is: 114.79780721664429 seconds\n",
            "GBTClassifier predicting started\n",
            "GBTClassifier predicting ended\n",
            "F1 for GBTClassifier is: 0.7747584541062802\n",
            "The accuracy of the GBTClassifier model is: 0.782608695652174\n",
            "LinearSVC training started\n",
            "LinearSVC training ended\n",
            "Time taken for LinearSVC is: 181.70194387435913 seconds\n",
            "LinearSVC predicting started\n",
            "LinearSVC predicting ended\n",
            "F1 for LinearSVC is: 0.6575415995705851\n",
            "The accuracy of the LinearSVC model is: 0.7608695652173914\n",
            "NaiveBayes training started\n",
            "NaiveBayes training ended\n",
            "Time taken for NaiveBayes is: 86.01649069786072 seconds\n",
            "NaiveBayes predicting started\n",
            "NaiveBayes predicting ended\n",
            "F1 for NaiveBayes is: 0.5053511705685618\n",
            "The accuracy of the NaiveBayes model is: 0.4782608695652174\n"
          ]
        }
      ],
      "source": [
        "# for loop to go through all our models\n",
        "for model in model_list:\n",
        "    # get model name\n",
        "    model_name = model.__class__.__name__\n",
        "\n",
        "    # print training started\n",
        "    print(model_name, 'training started')\n",
        "\n",
        "    # start time\n",
        "    start = time.time()\n",
        "    # fit the models on train dataset\n",
        "    model = model.fit(train_data)\n",
        "    # end time\n",
        "    end = time.time()\n",
        "\n",
        "    # print training ended\n",
        "    print(model_name, 'training ended')\n",
        "    # print time taken\n",
        "    print('Time taken for {} is:'.format(model_name),(end-start),'seconds')\n",
        "\n",
        "    # predict\n",
        "    print(model_name, 'predicting started')\n",
        "    predictions = model.transform(val_data)\n",
        "    print(model_name, 'predicting ended')\n",
        "\n",
        "    # get metrics to evaluate\n",
        "    # f1\n",
        "    print('F1 for {} is:'.format(model_name), evaluator.evaluate(predictions, {evaluator.metricName: \"f1\"}))\n",
        "    # accuracy\n",
        "    accuracy = predictions.filter(predictions.label == predictions.prediction).count() / (predictions.count())\n",
        "    print(\"The accuracy of the {} model is:\".format(model_name), accuracy)"
      ]
    },
    {
      "cell_type": "markdown",
      "source": [
        "Model Selection and Tuning\n",
        "Now that we have our model results, we can select the best candidate for tuning. While Logistic Regression, Random Forest, and Gradient Boosted Trees (GBT) all performed reasonably well, GBTClassifier stood out with the highest F1 score (0.775) and accuracy (0.783), making it the top-performing model overall.\n",
        "\n",
        "Although Random Forest was slightly faster (around 3 minutes 37 seconds) than GBT (about 1 minute 55 seconds), it had a noticeably lower F1 score (0.647) and accuracy (0.739). Considering our goal is to optimize F1 score—especially given the class imbalance in churn prediction—the GBTClassifier provides the best balance between performance and efficiency."
      ],
      "metadata": {
        "id": "GKzQa_v5uG5-"
      }
    },
    {
      "cell_type": "code",
      "execution_count": 43,
      "metadata": {
        "id": "kqzC_-9DTJun"
      },
      "outputs": [],
      "source": [
        "gbt = GBTClassifier(labelCol=\"label\", featuresCol=\"features\", seed=42)\n",
        "\n",
        "paramGrid = ParamGridBuilder() \\\n",
        "    .addGrid(gbt.maxDepth, [3, 5, 7]) \\\n",
        "    .addGrid(gbt.maxIter, [10, 20, 30]) \\\n",
        "    .addGrid(gbt.stepSize, [0.05, 0.1]) \\\n",
        "    .build()"
      ]
    },
    {
      "cell_type": "code",
      "execution_count": 44,
      "metadata": {
        "id": "KSbb8GVjTJun"
      },
      "outputs": [],
      "source": [
        "cv = CrossValidator(\n",
        "    estimator=gbt,\n",
        "    estimatorParamMaps=paramGrid,\n",
        "    evaluator=evaluator,\n",
        "    numFolds=3,\n",
        "    seed=42\n",
        ")"
      ]
    },
    {
      "cell_type": "code",
      "execution_count": null,
      "metadata": {
        "id": "9AqpM7t0TJun"
      },
      "outputs": [],
      "source": [
        "cv_model = cv.fit(train_data)\n",
        "\n",
        "# Best model from CV\n",
        "best_gbt_model = cv_model.bestModel\n",
        "\n",
        "# Predict on validation\n",
        "val_predictions = best_gbt_model.transform(val_data)\n",
        "val_f1 = evaluator.evaluate(val_predictions)\n",
        "print(f\"Validation F1 Score after tuning: {val_f1}\")\n",
        "\n",
        "# Predict on test\n",
        "test_predictions = best_gbt_model.transform(test_data)\n",
        "test_f1 = evaluator.evaluate(test_predictions)\n",
        "print(f\"Test F1 Score after tuning: {test_f1}\")"
      ]
    },
    {
      "cell_type": "markdown",
      "metadata": {
        "id": "JDr9m7zETJun"
      },
      "source": [
        "# Final Steps\n",
        "Clean up your code, adding comments and renaming variables to make the code easier to read and maintain. Refer to the Spark Project Overview page and Data Scientist Capstone Project Rubric to make sure you are including all components of the capstone project and meet all expectations. Remember, this includes thorough documentation in a README file in a Github repository, as well as a web app or blog post."
      ]
    },
    {
      "cell_type": "code",
      "execution_count": null,
      "metadata": {
        "id": "kqZMuaMOTJun"
      },
      "outputs": [],
      "source": []
    }
  ],
  "metadata": {
    "kernelspec": {
      "display_name": "Python 3 (ipykernel)",
      "language": "python",
      "name": "python3"
    },
    "language_info": {
      "codemirror_mode": {
        "name": "ipython",
        "version": 3
      },
      "file_extension": ".py",
      "mimetype": "text/x-python",
      "name": "python",
      "nbconvert_exporter": "python",
      "pygments_lexer": "ipython3",
      "version": "3.11.5"
    },
    "colab": {
      "provenance": []
    }
  },
  "nbformat": 4,
  "nbformat_minor": 0
}